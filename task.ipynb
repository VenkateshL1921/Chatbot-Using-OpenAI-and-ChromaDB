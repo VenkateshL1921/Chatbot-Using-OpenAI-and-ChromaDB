{
  "nbformat": 4,
  "nbformat_minor": 0,
  "metadata": {
    "colab": {
      "provenance": []
    },
    "kernelspec": {
      "name": "python3",
      "display_name": "Python 3"
    },
    "language_info": {
      "name": "python"
    }
  },
  "cells": [
    {
      "cell_type": "markdown",
      "source": [
        "# Installation"
      ],
      "metadata": {
        "id": "st_kxlNsqeLK"
      }
    },
    {
      "cell_type": "code",
      "execution_count": null,
      "metadata": {
        "id": "60c8V5Ktn_tt"
      },
      "outputs": [],
      "source": [
        "!pip install --upgrade langchain openai  -q"
      ]
    },
    {
      "cell_type": "code",
      "source": [
        "!pip install sentence_transformers -q"
      ],
      "metadata": {
        "id": "_uzOn7hdqHHw"
      },
      "execution_count": null,
      "outputs": []
    },
    {
      "cell_type": "code",
      "source": [
        "!pip install unstructured -q\n",
        "!pip install unstructured[local-inference] -q\n",
        "!pip install detectron2@git+https://github.com/facebookresearch/detectron2.git@v0.6"
      ],
      "metadata": {
        "id": "po4A_GfGqHKn"
      },
      "execution_count": null,
      "outputs": []
    },
    {
      "cell_type": "code",
      "source": [
        "!apt-get install poppler-utils"
      ],
      "metadata": {
        "id": "bYP9XuZhqHNh"
      },
      "execution_count": null,
      "outputs": []
    },
    {
      "cell_type": "code",
      "source": [
        "!pip install chromadb -q"
      ],
      "metadata": {
        "id": "q5q7vplUqHQK"
      },
      "execution_count": null,
      "outputs": []
    },
    {
      "cell_type": "markdown",
      "source": [
        "# Import"
      ],
      "metadata": {
        "id": "zuR2OyEOwqLh"
      }
    },
    {
      "cell_type": "code",
      "source": [
        "from langchain.vectorstores import Chroma\n",
        "from langchain.document_loaders import DirectoryLoader\n",
        "from langchain.document_loaders import TextLoader"
      ],
      "metadata": {
        "id": "--C_a4QOwz3o"
      },
      "execution_count": 6,
      "outputs": []
    },
    {
      "cell_type": "code",
      "source": [
        "from langchain.text_splitter import RecursiveCharacterTextSplitter"
      ],
      "metadata": {
        "id": "boWKiR-GyLag"
      },
      "execution_count": 12,
      "outputs": []
    },
    {
      "cell_type": "code",
      "source": [
        "from sentence_transformers import SentenceTransformer"
      ],
      "metadata": {
        "id": "nXwTfnuDw0Cq"
      },
      "execution_count": 7,
      "outputs": []
    },
    {
      "cell_type": "markdown",
      "source": [
        "# Data"
      ],
      "metadata": {
        "id": "HBeczbcuqmee"
      }
    },
    {
      "cell_type": "code",
      "source": [
        "loader = DirectoryLoader(\"/content/data\", glob = \"./*.txt\", loader_cls=TextLoader)"
      ],
      "metadata": {
        "id": "SgSUBnSdqUJV"
      },
      "execution_count": 8,
      "outputs": []
    },
    {
      "cell_type": "code",
      "source": [
        "document = loader.load()"
      ],
      "metadata": {
        "id": "wjhmViLIxmzG"
      },
      "execution_count": 10,
      "outputs": []
    },
    {
      "cell_type": "code",
      "source": [
        "len(document)"
      ],
      "metadata": {
        "colab": {
          "base_uri": "https://localhost:8080/"
        },
        "id": "FD1nRztbxm2h",
        "outputId": "37f94e85-3efd-4069-ec73-5fc6617a09bd"
      },
      "execution_count": 16,
      "outputs": [
        {
          "output_type": "execute_result",
          "data": {
            "text/plain": [
              "3"
            ]
          },
          "metadata": {},
          "execution_count": 16
        }
      ]
    },
    {
      "cell_type": "code",
      "source": [
        "text_splitter = RecursiveCharacterTextSplitter(chunk_size = 500, chunk_overlap = 30)\n",
        "text = text_splitter.split_documents(document)"
      ],
      "metadata": {
        "id": "08SMmpXhxm5Y"
      },
      "execution_count": 13,
      "outputs": []
    },
    {
      "cell_type": "code",
      "source": [
        "text"
      ],
      "metadata": {
        "id": "7UE_4uAC3_mx"
      },
      "execution_count": null,
      "outputs": []
    },
    {
      "cell_type": "code",
      "source": [
        "data = []\n",
        "for txt in text:\n",
        "    data.append(txt.page_content)\n",
        "len(data)"
      ],
      "metadata": {
        "colab": {
          "base_uri": "https://localhost:8080/"
        },
        "id": "6vtPv_dSzKcQ",
        "outputId": "5afd0dde-bf77-4e89-c54d-1eeb1d079ddd"
      },
      "execution_count": 34,
      "outputs": [
        {
          "output_type": "execute_result",
          "data": {
            "text/plain": [
              "37"
            ]
          },
          "metadata": {},
          "execution_count": 34
        }
      ]
    },
    {
      "cell_type": "code",
      "source": [
        "text[10].page_content"
      ],
      "metadata": {
        "id": "OnSHXFAFza39"
      },
      "execution_count": null,
      "outputs": []
    },
    {
      "cell_type": "markdown",
      "source": [
        "# ChromaDB"
      ],
      "metadata": {
        "id": "QwMQWm2QzpOX"
      }
    },
    {
      "cell_type": "code",
      "source": [
        "persist_directory = \"db\"\n",
        "embedding = SentenceTransformer('paraphrase-MiniLM-L3-v2')"
      ],
      "metadata": {
        "id": "hw3HqyVxzol4"
      },
      "execution_count": null,
      "outputs": []
    },
    {
      "cell_type": "code",
      "source": [
        "embeding = embedding.encode(data).tolist()"
      ],
      "metadata": {
        "id": "YEKcwXoO00AH"
      },
      "execution_count": 29,
      "outputs": []
    },
    {
      "cell_type": "code",
      "source": [
        "len(embeding[0])"
      ],
      "metadata": {
        "colab": {
          "base_uri": "https://localhost:8080/"
        },
        "id": "fxdpp2QW2VYr",
        "outputId": "237fe734-3332-4795-88c7-0d16991dccf6"
      },
      "execution_count": 31,
      "outputs": [
        {
          "output_type": "execute_result",
          "data": {
            "text/plain": [
              "384"
            ]
          },
          "metadata": {},
          "execution_count": 31
        }
      ]
    },
    {
      "cell_type": "code",
      "source": [
        "ids = [str(i) for i in range(1,38)]\n"
      ],
      "metadata": {
        "id": "-ocE-jYn4TvV"
      },
      "execution_count": null,
      "outputs": []
    },
    {
      "cell_type": "code",
      "source": [
        "\n",
        "import chromadb\n",
        "\n",
        "client = chromadb.Client()\n",
        "client = chromadb.PersistentClient(path=\"db\")\n",
        "collection = client.create_collection(\"test\")"
      ],
      "metadata": {
        "id": "Gik1-LG649qT"
      },
      "execution_count": 47,
      "outputs": []
    },
    {
      "cell_type": "code",
      "source": [
        "collection.add(\n",
        "    documents=data,\n",
        "    embeddings=embeding,\n",
        "    ids = ids\n",
        ")"
      ],
      "metadata": {
        "id": "GpJmysmG6laZ"
      },
      "execution_count": 56,
      "outputs": []
    },
    {
      "cell_type": "code",
      "source": [
        "vectordb = Chroma(persist_directory=\"/content/db\", embedding_function=embedding)"
      ],
      "metadata": {
        "id": "t9b8vs7p9H7Y"
      },
      "execution_count": 57,
      "outputs": []
    },
    {
      "cell_type": "code",
      "source": [
        "vectordb"
      ],
      "metadata": {
        "colab": {
          "base_uri": "https://localhost:8080/"
        },
        "id": "7e0YriT2-s8k",
        "outputId": "ffd4e97d-f327-472f-fe2b-90ae53eb515c"
      },
      "execution_count": 58,
      "outputs": [
        {
          "output_type": "execute_result",
          "data": {
            "text/plain": [
              "<langchain_community.vectorstores.chroma.Chroma at 0x7b5d644e9090>"
            ]
          },
          "metadata": {},
          "execution_count": 58
        }
      ]
    },
    {
      "cell_type": "code",
      "source": [
        "\n",
        "!zip -r 'db.zip' '/content/db'"
      ],
      "metadata": {
        "colab": {
          "base_uri": "https://localhost:8080/"
        },
        "id": "DKsVJEDK_Qpu",
        "outputId": "9f8bef17-90e2-4030-e4fb-f7345fd70c5e"
      },
      "execution_count": 59,
      "outputs": [
        {
          "output_type": "stream",
          "name": "stdout",
          "text": [
            "  adding: content/db/ (stored 0%)\n",
            "  adding: content/db/a869f3ca-a745-4499-9c7f-97f774bf8071/ (stored 0%)\n",
            "  adding: content/db/a869f3ca-a745-4499-9c7f-97f774bf8071/data_level0.bin (deflated 61%)\n",
            "  adding: content/db/a869f3ca-a745-4499-9c7f-97f774bf8071/link_lists.bin (stored 0%)\n",
            "  adding: content/db/a869f3ca-a745-4499-9c7f-97f774bf8071/header.bin (deflated 61%)\n",
            "  adding: content/db/a869f3ca-a745-4499-9c7f-97f774bf8071/length.bin (deflated 41%)\n",
            "  adding: content/db/chroma.sqlite3 (deflated 70%)\n"
          ]
        }
      ]
    },
    {
      "cell_type": "markdown",
      "source": [
        "# Testing"
      ],
      "metadata": {
        "id": "_vkku4ZqBapN"
      }
    },
    {
      "cell_type": "code",
      "source": [
        "query = \"what is rivalry between india and pakistan?\"\n",
        "input_em = embedding.encode(query).tolist()\n",
        "\n",
        "results = collection.query(\n",
        "    query_embeddings=[input_em],\n",
        "    n_results=1\n",
        ")\n",
        "results"
      ],
      "metadata": {
        "colab": {
          "base_uri": "https://localhost:8080/"
        },
        "id": "HRttqazJBwoh",
        "outputId": "be0c74c1-098a-46b4-ff93-cca447e14c8b"
      },
      "execution_count": 62,
      "outputs": [
        {
          "output_type": "execute_result",
          "data": {
            "text/plain": [
              "{'ids': [['1']],\n",
              " 'distances': [[9.17283107813053]],\n",
              " 'metadatas': [[None]],\n",
              " 'embeddings': None,\n",
              " 'documents': [[\"The cricketing rivalry between India and Pakistan is one of the most fiercely contested and deeply ingrained rivalries in the world of sports. Dating back to the partition of India in 1947, which led to the creation of Pakistan, this rivalry transcends the boundaries of sport and reflects the complex political, cultural, and historical dynamics between the two neighboring nations. Here's an exploration of the rich history of the Indian cricket vs. Pakistan cricket rivalry:\"]],\n",
              " 'uris': None,\n",
              " 'data': None}"
            ]
          },
          "metadata": {},
          "execution_count": 62
        }
      ]
    }
  ]
}