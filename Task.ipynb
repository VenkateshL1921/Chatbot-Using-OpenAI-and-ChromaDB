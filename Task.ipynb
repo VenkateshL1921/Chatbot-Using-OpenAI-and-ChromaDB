{
  "cells": [
    {
      "cell_type": "markdown",
      "metadata": {
        "id": "st_kxlNsqeLK"
      },
      "source": [
        "# Installation"
      ]
    },
    {
      "cell_type": "code",
      "execution_count": null,
      "metadata": {
        "id": "60c8V5Ktn_tt"
      },
      "outputs": [],
      "source": [
        "!pip install --upgrade langchain openai  -q"
      ]
    },
    {
      "cell_type": "code",
      "execution_count": null,
      "metadata": {
        "id": "_uzOn7hdqHHw"
      },
      "outputs": [],
      "source": [
        "!pip install sentence_transformers -q"
      ]
    },
    {
      "cell_type": "code",
      "execution_count": null,
      "metadata": {
        "id": "po4A_GfGqHKn"
      },
      "outputs": [],
      "source": [
        "!pip install unstructured -q\n",
        "!pip install unstructured[local-inference] -q\n",
        "!pip install detectron2@git+https://github.com/facebookresearch/detectron2.git@v0.6"
      ]
    },
    {
      "cell_type": "code",
      "execution_count": null,
      "metadata": {
        "id": "bYP9XuZhqHNh"
      },
      "outputs": [],
      "source": [
        "!apt-get install poppler-utils"
      ]
    },
    {
      "cell_type": "code",
      "execution_count": null,
      "metadata": {
        "id": "q5q7vplUqHQK"
      },
      "outputs": [],
      "source": [
        "!pip install chromadb -q"
      ]
    },
    {
      "cell_type": "markdown",
      "metadata": {
        "id": "zuR2OyEOwqLh"
      },
      "source": [
        "# Import"
      ]
    },
    {
      "cell_type": "code",
      "execution_count": 6,
      "metadata": {
        "id": "--C_a4QOwz3o"
      },
      "outputs": [],
      "source": [
        "from langchain.vectorstores import Chroma\n",
        "from langchain.document_loaders import DirectoryLoader\n",
        "from langchain.document_loaders import TextLoader"
      ]
    },
    {
      "cell_type": "code",
      "execution_count": 7,
      "metadata": {
        "id": "boWKiR-GyLag"
      },
      "outputs": [],
      "source": [
        "from langchain.text_splitter import RecursiveCharacterTextSplitter\n",
        "import os"
      ]
    },
    {
      "cell_type": "code",
      "execution_count": null,
      "metadata": {
        "id": "1lHZV2V-OXEi"
      },
      "outputs": [],
      "source": [
        "from langchain_community.chat_models import ChatOpenAI\n",
        "from langchain.embeddings import SentenceTransformerEmbeddings\n",
        "from langchain.chains.question_answering import load_qa_chain"
      ]
    },
    {
      "cell_type": "markdown",
      "metadata": {
        "id": "HBeczbcuqmee"
      },
      "source": [
        "# Data"
      ]
    },
    {
      "cell_type": "code",
      "execution_count": 16,
      "metadata": {
        "id": "SgSUBnSdqUJV"
      },
      "outputs": [],
      "source": [
        "loader = DirectoryLoader(\"/content/data\", glob = \"./*.txt\", loader_cls=TextLoader)"
      ]
    },
    {
      "cell_type": "code",
      "execution_count": 17,
      "metadata": {
        "id": "wjhmViLIxmzG"
      },
      "outputs": [],
      "source": [
        "document = loader.load()"
      ]
    },
    {
      "cell_type": "code",
      "execution_count": 18,
      "metadata": {
        "colab": {
          "base_uri": "https://localhost:8080/"
        },
        "id": "FD1nRztbxm2h",
        "outputId": "81661622-31f6-40ee-c350-1780d4c14b67"
      },
      "outputs": [
        {
          "data": {
            "text/plain": [
              "3"
            ]
          },
          "execution_count": 18,
          "metadata": {},
          "output_type": "execute_result"
        }
      ],
      "source": [
        "len(document)"
      ]
    },
    {
      "cell_type": "code",
      "execution_count": 19,
      "metadata": {
        "id": "08SMmpXhxm5Y"
      },
      "outputs": [],
      "source": [
        "text_splitter = RecursiveCharacterTextSplitter(chunk_size = 500, chunk_overlap = 30)\n",
        "text = text_splitter.split_documents(document)"
      ]
    },
    {
      "cell_type": "code",
      "execution_count": 20,
      "metadata": {
        "colab": {
          "base_uri": "https://localhost:8080/"
        },
        "id": "7UE_4uAC3_mx",
        "outputId": "53e3c690-3892-44fa-c010-f33cac58b430"
      },
      "outputs": [
        {
          "data": {
            "text/plain": [
              "37"
            ]
          },
          "execution_count": 20,
          "metadata": {},
          "output_type": "execute_result"
        }
      ],
      "source": [
        "len(text)"
      ]
    },
    {
      "cell_type": "code",
      "execution_count": 21,
      "metadata": {
        "colab": {
          "base_uri": "https://localhost:8080/"
        },
        "id": "6vtPv_dSzKcQ",
        "outputId": "9bab8467-74b1-4755-b7a9-ba6b856d96f1"
      },
      "outputs": [
        {
          "data": {
            "text/plain": [
              "37"
            ]
          },
          "execution_count": 21,
          "metadata": {},
          "output_type": "execute_result"
        }
      ],
      "source": [
        "data = []\n",
        "for txt in text:\n",
        "    data.append(txt.page_content)\n",
        "len(data)"
      ]
    },
    {
      "cell_type": "code",
      "execution_count": 22,
      "metadata": {
        "colab": {
          "base_uri": "https://localhost:8080/",
          "height": 109
        },
        "id": "OnSHXFAFza39",
        "outputId": "3a002d69-456e-47f5-c67a-ad9f8a75bf1a"
      },
      "outputs": [
        {
          "data": {
            "application/vnd.google.colaboratory.intrinsic+json": {
              "type": "string"
            },
            "text/plain": [
              "'Pathway to Peace:\\nDespite the political tensions and occasional hostilities, cricket has often been seen as a pathway to peace and reconciliation between India and Pakistan. The cricketing diplomacy, exemplified by initiatives such as the \"Cricket for Peace\" series and the \"Aman ki Asha\" (Hope for Peace) campaign, underscores the potential of sport to bridge divides and foster understanding between nations.'"
            ]
          },
          "execution_count": 22,
          "metadata": {},
          "output_type": "execute_result"
        }
      ],
      "source": [
        "text[10].page_content"
      ]
    },
    {
      "cell_type": "code",
      "execution_count": 28,
      "metadata": {
        "colab": {
          "base_uri": "https://localhost:8080/"
        },
        "id": "qf55gQxHJvIo",
        "outputId": "4dd20fc1-36e8-48a7-a91e-9ccb86aadb72"
      },
      "outputs": [
        {
          "data": {
            "text/plain": [
              "37"
            ]
          },
          "execution_count": 28,
          "metadata": {},
          "output_type": "execute_result"
        }
      ],
      "source": [
        "len(text)"
      ]
    },
    {
      "cell_type": "markdown",
      "metadata": {
        "id": "QwMQWm2QzpOX"
      },
      "source": [
        "# ChromaDB"
      ]
    },
    {
      "cell_type": "code",
      "execution_count": null,
      "metadata": {
        "id": "hw3HqyVxzol4"
      },
      "outputs": [],
      "source": [
        "persist_directory = \"db\"\n",
        "embeddings = SentenceTransformerEmbeddings(model_name=\"all-MiniLM-L6-v2\")"
      ]
    },
    {
      "cell_type": "code",
      "execution_count": 32,
      "metadata": {
        "id": "Hl6Ofs5HIdl-"
      },
      "outputs": [],
      "source": [
        "db = Chroma.from_documents(text, embeddings)"
      ]
    },
    {
      "cell_type": "code",
      "execution_count": 34,
      "metadata": {
        "id": "OH5PvzSJIdiP"
      },
      "outputs": [],
      "source": [
        "vectordb = Chroma.from_documents(\n",
        "    documents=text, embedding=embeddings, persist_directory=persist_directory\n",
        ")"
      ]
    },
    {
      "cell_type": "markdown",
      "metadata": {
        "id": "S2bGE87wIXL7"
      },
      "source": [
        "# Test"
      ]
    },
    {
      "cell_type": "code",
      "execution_count": 40,
      "metadata": {
        "id": "OPz2GsEVIdeO"
      },
      "outputs": [],
      "source": [
        "\n",
        "query = \"What is the rivalry between india and pakistan?\"\n",
        "matching_docs = db.similarity_search(query, k=3)\n"
      ]
    },
    {
      "cell_type": "code",
      "execution_count": null,
      "metadata": {
        "id": "Jk09QUe2IdaI"
      },
      "outputs": [],
      "source": [
        "matching_docs"
      ]
    },
    {
      "cell_type": "code",
      "execution_count": 42,
      "metadata": {
        "id": "AqLyazyBLvrW"
      },
      "outputs": [],
      "source": [
        "os.environ[\"OPENAI_API_KEY\"] = \"\""
      ]
    },
    {
      "cell_type": "code",
      "execution_count": 44,
      "metadata": {
        "id": "9cIziJGMLvus"
      },
      "outputs": [],
      "source": [
        "model_name = \"gpt-3.5-turbo\"\n",
        "llm = ChatOpenAI(model_name=model_name)"
      ]
    },
    {
      "cell_type": "code",
      "execution_count": 47,
      "metadata": {
        "id": "jdI1K7P1Lvx2"
      },
      "outputs": [],
      "source": [
        "chain = load_qa_chain(llm, chain_type=\"stuff\")"
      ]
    },
    {
      "cell_type": "code",
      "execution_count": null,
      "metadata": {
        "id": "1jb9l069IdTS"
      },
      "outputs": [],
      "source": [
        "\n",
        "query = \"What is the rivalry between india and pakistan?\"\n",
        "matching_docs = db.similarity_search(query, k=3)\n",
        "answer =  chain.run(input_documents=matching_docs, question=query)\n",
        "answer"
      ]
    },
    {
      "cell_type": "markdown",
      "metadata": {
        "id": "W85EbA9PIaSn"
      },
      "source": [
        "# End Test"
      ]
    },
    {
      "cell_type": "code",
      "execution_count": 49,
      "metadata": {
        "colab": {
          "base_uri": "https://localhost:8080/"
        },
        "id": "DKsVJEDK_Qpu",
        "outputId": "fe68b648-82fa-4153-9f20-eefc6c99e95e"
      },
      "outputs": [
        {
          "name": "stdout",
          "output_type": "stream",
          "text": [
            "  adding: content/db/ (stored 0%)\n",
            "  adding: content/db/dcc23105-c247-4bf9-8367-7527c863b090/ (stored 0%)\n",
            "  adding: content/db/dcc23105-c247-4bf9-8367-7527c863b090/data_level0.bin (deflated 49%)\n",
            "  adding: content/db/dcc23105-c247-4bf9-8367-7527c863b090/link_lists.bin (stored 0%)\n",
            "  adding: content/db/dcc23105-c247-4bf9-8367-7527c863b090/header.bin (deflated 61%)\n",
            "  adding: content/db/dcc23105-c247-4bf9-8367-7527c863b090/length.bin (deflated 53%)\n",
            "  adding: content/db/chroma.sqlite3 (deflated 70%)\n"
          ]
        }
      ],
      "source": [
        "\n",
        "!zip -r 'db.zip' '/content/db'"
      ]
    }
  ],
  "metadata": {
    "colab": {
      "provenance": []
    },
    "kernelspec": {
      "display_name": "Python 3",
      "name": "python3"
    },
    "language_info": {
      "name": "python"
    }
  },
  "nbformat": 4,
  "nbformat_minor": 0
}
